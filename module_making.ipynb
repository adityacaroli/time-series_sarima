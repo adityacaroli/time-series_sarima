{
 "cells": [
  {
   "cell_type": "code",
   "execution_count": 8,
   "metadata": {},
   "outputs": [],
   "source": [
    "import pandas as pd\n",
    "import numpy as np\n",
    "import matplotlib.pyplot as plt\n",
    "\n",
    "from statsmodels.tsa.stattools import adfuller # dickey-fuller test\n",
    "from statsmodels.tsa.seasonal import seasonal_decompose\n",
    "from statsmodels.graphics.tsaplots import plot_acf\n",
    "from statsmodels.graphics.tsaplots import plot_pacf\n",
    "from sklearn.metrics import r2_score, mean_absolute_error, mean_squared_error, median_absolute_error"
   ]
  },
  {
   "cell_type": "code",
   "execution_count": null,
   "metadata": {},
   "outputs": [],
   "source": []
  },
  {
   "cell_type": "code",
   "execution_count": 14,
   "metadata": {},
   "outputs": [],
   "source": [
    "def ts(data):\n",
    "    \n",
    "    # rolling stats\n",
    "    rolling_mean = data.rolling(window=12).mean() # rolling => inbuilt function \n",
    "    rollind_std = data.rolling(window=12).std()   # window=12, since we have a monthly data\n",
    "    \n",
    "    # plotting rolling statistics\n",
    "    fig = plt.figure(figsize=(10, 5))\n",
    "    \n",
    "    original_data_plot = plt.plot(data, 'b', label='Original Data')\n",
    "    rolling_mean_plot = plt.plot(rolling_mean, 'r', label='Rolling Mean')\n",
    "    rolling_std_plot = plt.plot(rollind_std, 'black', label='Rolling Std')\n",
    "    plt.legend();\n",
    "    \n",
    "    # dickey-fuller test\n",
    "    dftest = adfuller(data.iloc[: , 0]) # taking just the 1st column\n",
    "    print(dftest, '\\n')\n",
    "    \n",
    "    dftest_output = pd.Series(dftest[0:4], \n",
    "                              index=['test statistics:', 'p-value:', 'lags-used:', 'no. of obs used:'])\n",
    "    print(dftest_output)\n",
    "    \n",
    "    for key,value in dftest[4].items():\n",
    "        print('\\n critical value: ', key, '=>', value)"
   ]
  },
  {
   "cell_type": "code",
   "execution_count": null,
   "metadata": {},
   "outputs": [],
   "source": []
  },
  {
   "cell_type": "code",
   "execution_count": 19,
   "metadata": {},
   "outputs": [],
   "source": [
    "def acf_pacf_plots(data):\n",
    "    plot_acf(data)\n",
    "    plt.show()\n",
    "    \n",
    "    plot_pacf(data)\n",
    "    plt.show()"
   ]
  },
  {
   "cell_type": "code",
   "execution_count": null,
   "metadata": {},
   "outputs": [],
   "source": []
  },
  {
   "cell_type": "code",
   "execution_count": 21,
   "metadata": {},
   "outputs": [],
   "source": [
    "def evaluate_forecast(y, pred):\n",
    "    results = pd.DataFrame({'Mean Absolute Error': mean_absolute_error(y, pred)}, index=['Values'])\n",
    "    \n",
    "    # adding columns to dataframe\n",
    "    results['Mean_Squared_Error'] = mean_squared_error(y, pred)\n",
    "    results['Mean_Absolute_Percentage_Error'] = np.mean(np.abs((y - pred)/y)) * 100\n",
    "    results['Root_Mean_Squared_Error'] = np.sqrt(results['Mean_Squared_Error'])\n",
    "    \n",
    "    return results"
   ]
  },
  {
   "cell_type": "code",
   "execution_count": null,
   "metadata": {},
   "outputs": [],
   "source": []
  }
 ],
 "metadata": {
  "kernelspec": {
   "display_name": "Python 3",
   "language": "python",
   "name": "python3"
  },
  "language_info": {
   "codemirror_mode": {
    "name": "ipython",
    "version": 3
   },
   "file_extension": ".py",
   "mimetype": "text/x-python",
   "name": "python",
   "nbconvert_exporter": "python",
   "pygments_lexer": "ipython3",
   "version": "3.7.3"
  }
 },
 "nbformat": 4,
 "nbformat_minor": 2
}
